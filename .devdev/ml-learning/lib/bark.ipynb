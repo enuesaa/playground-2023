{
 "cells": [
  {
   "cell_type": "code",
   "execution_count": null,
   "id": "06ee30da-985b-43f2-a5a9-dc533448dd2b",
   "metadata": {
    "tags": []
   },
   "outputs": [],
   "source": [
    "!pip3 install git+https://github.com/suno-ai/bark.git\n",
    "!pip3 install ipywidgets"
   ]
  },
  {
   "cell_type": "code",
   "execution_count": null,
   "id": "7f4bb6b6-4935-4f77-80c0-e1a0cf50eea8",
   "metadata": {
    "tags": []
   },
   "outputs": [],
   "source": [
    "from bark import SAMPLE_RATE, generate_audio\n",
    "from IPython.display import Audio\n",
    "\n",
    "# モデル？が何個かダウンロードされる. 途中で終わらせてしまった。\n",
    "# huggingface spaceで下記を実行してみた. 日本語で読み上げされ聞き取れるものの声質が変わったりする\n",
    "# https://huggingface.co/spaces/suno/bark\n",
    "https://huggingface.co/spaces/suno/bark\n",
    "text_prompt = \"\"\"\n",
    "     こんにちは。TypeScriptとRustが好きなエンジニアです。\n",
    "     好きなAWSのサービスはLambdaです。\n",
    "\"\"\"\n",
    "audio_array = generate_audio(text_prompt)\n",
    "Audio(audio_array, rate=SAMPLE_RATE)"
   ]
  },
  {
   "cell_type": "code",
   "execution_count": null,
   "id": "655a52d1-b10f-4210-a54c-a5255463ad8d",
   "metadata": {},
   "outputs": [],
   "source": []
  }
 ],
 "metadata": {
  "kernelspec": {
   "display_name": "Python 3 (ipykernel)",
   "language": "python",
   "name": "python3"
  },
  "language_info": {
   "codemirror_mode": {
    "name": "ipython",
    "version": 3
   },
   "file_extension": ".py",
   "mimetype": "text/x-python",
   "name": "python",
   "nbconvert_exporter": "python",
   "pygments_lexer": "ipython3",
   "version": "3.10.1"
  }
 },
 "nbformat": 4,
 "nbformat_minor": 5
}
