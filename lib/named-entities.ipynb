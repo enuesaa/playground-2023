{
 "cells": [
  {
   "cell_type": "markdown",
   "metadata": {},
   "source": [
    "# 固有表現抽出\n",
    "https://tech.retrieva.jp/entry/2021/08/30/135002"
   ]
  },
  {
   "cell_type": "code",
   "execution_count": null,
   "metadata": {
    "tags": []
   },
   "outputs": [],
   "source": [
    "!pip3 install transformers"
   ]
  },
  {
   "cell_type": "markdown",
   "metadata": {},
   "source": [
    "## Pipeline\n",
    "確か英語しか対応していない。固有表現抽出以外にも summary など実行でき、そこそこ有用な認識\n",
    "\n",
    "https://huggingface.co/docs/transformers/main_classes/pipelines#transformers.TokenClassificationPipeline"
   ]
  },
  {
   "cell_type": "code",
   "execution_count": null,
   "metadata": {},
   "outputs": [],
   "source": [
    "from transformers import pipeline \n",
    "\n",
    "ner_pipeline = pipeline(\"ner\")\n",
    "result = ner_pipeline(\"The Eiffel Tower is located in Paris, France and is a popular tourist attraction.\")\n",
    "print(result)"
   ]
  },
  {
   "cell_type": "markdown",
   "metadata": {
    "tags": []
   },
   "source": [
    "## Ginza\n",
    "https://www.ai-shift.co.jp/techblog/2504"
   ]
  },
  {
   "cell_type": "code",
   "execution_count": null,
   "metadata": {
    "tags": []
   },
   "outputs": [],
   "source": [
    "!pip3 install spacy==3.2\n",
    "!pip3 install ja_ginza\n",
    "!pip3 install ginza https://github.com/megagonlabs/ginza/releases/download/latest/ja_ginza_electra-latest-with-model.tar.gz"
   ]
  },
  {
   "cell_type": "code",
   "execution_count": null,
   "metadata": {},
   "outputs": [],
   "source": [
    "import json\n",
    "import spacy\n",
    "import pandas as pd\n",
    "from tqdm.auto import tqdm"
   ]
  },
  {
   "cell_type": "code",
   "execution_count": null,
   "metadata": {
    "tags": []
   },
   "outputs": [],
   "source": [
    "nlp = spacy.load('ja_ginza_electra')"
   ]
  },
  {
   "cell_type": "code",
   "execution_count": null,
   "metadata": {},
   "outputs": [],
   "source": [
    "# chat gpt に作ってもらった文章\n",
    "texts = [\n",
    "    '東京タワーは、日本を代表する観光名所の一つであり、高さ333メートルの高さであります。',\n",
    "    '京都は、日本の伝統的な文化や建築物が多く残されている、歴史的な都市であります。',\n",
    "    '日本の西に位置する大都市、大阪は、グルメの街として有名である。たこ焼きやお好み焼きなどの郷土料理が代表的で、多くの観光客に愛されている。',\n",
    "    '九州地方にある福岡市は、日本で最も人口密度が高い都市の一つである。国際的な空港を有し、アジアとの交流が盛んである。',\n",
    "    '北海道に位置する札幌市は、日本の最北の大都市である。美しい自然に囲まれ、冬季には雪祭りが開催され、多くの観光客が訪れる。',\n",
    "]\n",
    "docs = nlp.pipe(texts)"
   ]
  },
  {
   "cell_type": "code",
   "execution_count": null,
   "metadata": {
    "tags": []
   },
   "outputs": [],
   "source": [
    "# see https://www.ogis-ri.co.jp/otc/hiroba/technical/similar-document-search/part4.html\n",
    "# 名詞を出力\n",
    "for doc in list(docs):\n",
    "    for np in doc.noun_chunks:\n",
    "        print(np)"
   ]
  },
  {
   "cell_type": "code",
   "execution_count": null,
   "metadata": {
    "tags": []
   },
   "outputs": [],
   "source": [
    "# chat gpt に作ってもらった文章\n",
    "texts = [\n",
    "    'クラウドネイティブなアーキテクチャを採用することで、アジャイルな開発が可能となる。コンテナ技術やオーケストレーションツールの利用が一般化し、クラウド環境でのアプリケーション開発が進んでいる。',\n",
    "    'パブリッククラウドは、コスト効率が高く、スケーラビリティに優れるため、多くの企業が導入を検討している。一方で、データセキュリティやプライバシーに関する課題もあるため、十分な対策が必要となる。',\n",
    "    'サーバーレスアーキテクチャを利用することで、インフラ管理の負担を軽減することができる。Lambdaなどのサービスが一般化し、開発者はコードに集中することができるようになってきている。',\n",
    "    'プログラミング言語には、さまざまな特徴があります。例えば、Pythonはシンプルで読みやすいコードが特徴的であり、Javaは豊富なライブラリやプラットフォーム環境が利用できます。また、RubyやPerlなどのスクリプト言語は、開発の効率性が高く、Web開発に適しています。一方で、C言語やC++などの低水準言語は、高いパフォーマンスやシステム開発に適しています。近年では、JavaScriptやTypeScriptなどのフロントエンド言語が注目され、ReactやAngularなどのフレームワークを利用することで、Webアプリケーション開発が容易になっています。これらの言語や技術を組み合わせることで、多様な開発ニーズに応えることができるようになっています。',\n",
    "]\n",
    "docs = nlp.pipe(texts)\n",
    "for doc in list(docs):\n",
    "    for np in doc.noun_chunks:\n",
    "        print(np)\n",
    "    print('----')\n",
    "    for ent in doc.ents:\n",
    "        print(ent.text)\n",
    "    print('-------------')"
   ]
  },
  {
   "cell_type": "code",
   "execution_count": null,
   "metadata": {},
   "outputs": [],
   "source": []
  }
 ],
 "metadata": {
  "kernelspec": {
   "display_name": "Python 3 (ipykernel)",
   "language": "python",
   "name": "python3"
  },
  "language_info": {
   "codemirror_mode": {
    "name": "ipython",
    "version": 3
   },
   "file_extension": ".py",
   "mimetype": "text/x-python",
   "name": "python",
   "nbconvert_exporter": "python",
   "pygments_lexer": "ipython3",
   "version": "3.10.1"
  }
 },
 "nbformat": 4,
 "nbformat_minor": 4
}
