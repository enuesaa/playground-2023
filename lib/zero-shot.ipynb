{
 "cells": [
  {
   "cell_type": "markdown",
   "metadata": {},
   "source": [
    "# zero shot classification\n",
    "ラベルにマッチするか判定するタスクのよう。教師なし。\n",
    "\n",
    "## Links\n",
    "- https://huggingface.co/docs/transformers/main_classes/pipelines#transformers.ZeroShotClassificationPipeline\n",
    "- https://recruit.gmo.jp/engineer/jisedai/blog/zero-shot-learning/\n",
    "- https://qiita.com/TommyK_Tech/items/a68f9177c942f2a0a51a"
   ]
  },
  {
   "cell_type": "code",
   "execution_count": null,
   "metadata": {
    "tags": []
   },
   "outputs": [],
   "source": [
    "# https://qiita.com/Gonsuna/items/80a5d36673ba2b6ef7f0\n",
    "\n",
    "#python3 -m venv venv-zero-shot\n",
    "#source venv-zero-shot/bin/activate\n",
    "#pip3 install ipykernel\n",
    "#ipython kernel install --user --name=venv-zero-shot"
   ]
  },
  {
   "cell_type": "code",
   "execution_count": null,
   "metadata": {
    "tags": []
   },
   "outputs": [],
   "source": [
    "# https://cocoinit23.com/tensorflow-deberta-hugging-face-tokenizer-class-debertav2tokenizer-does-not-exist-or-is-not-currently-imported/\n",
    "!pip3 install sentencepiece\n",
    "!pip3 install transformers\n",
    "!pip3 install torch\n",
    "\n",
    "# https://stackoverflow.com/questions/74946845/attributeerror-module-numpy-has-no-attribute-int\n",
    "!pip3 install numpy==1.23.5"
   ]
  },
  {
   "cell_type": "code",
   "execution_count": null,
   "metadata": {
    "tags": []
   },
   "outputs": [],
   "source": [
    "from transformers import pipeline"
   ]
  },
  {
   "cell_type": "code",
   "execution_count": null,
   "metadata": {
    "tags": []
   },
   "outputs": [],
   "source": [
    "import numpy\n",
    "print(numpy.__version__)"
   ]
  },
  {
   "cell_type": "code",
   "execution_count": null,
   "metadata": {
    "tags": []
   },
   "outputs": [],
   "source": [
    "classifier = pipeline(\n",
    "    \"zero-shot-classification\",\n",
    "    model=\"MoritzLaurer/mDeBERTa-v3-base-xnli-multilingual-nli-2mil7\"\n",
    ")"
   ]
  },
  {
   "cell_type": "code",
   "execution_count": null,
   "metadata": {},
   "outputs": [],
   "source": [
    "texts = [\"東京・渋谷区に本社を置く架空の企業「ニッポンダイナマイト」が、独自開発した架空の商品「ドキドキキャンディー」が大ヒットしていると、同社が発表しました。\"]\n",
    "labels = [\"宣伝\", \"ニュース\", \"天気予報\"]\n",
    "classifier(texts, labels)"
   ]
  },
  {
   "cell_type": "code",
   "execution_count": null,
   "metadata": {
    "tags": []
   },
   "outputs": [],
   "source": [
    "texts = [\n",
    "  # chatgpt に作ってもらった文章\n",
    "  \"\"\"こんにちは！今回は、私たちの開発したiOSアプリ「フレッシュタスク」をご紹介します。\n",
    "  「フレッシュタスク」は、日々のタスク管理をより簡単に、そして楽しく行えるアプリです。シンプルかつ使いやすいUIが特徴で、タスクを追加する際にはアイコンを選択することで直感的に分類することができます。また、繰り返しタスクや期限があるタスクにも対応しており、忘れずにタスクをこなすことができます。\n",
    "  さらに、ランダムで表示される「デイリーフレッシュタスク」機能があります。これは、毎日少しずつ取り組むことで自分自身を成長させるためのタスクを提案してくれます。この機能を使うことで、日々の生活がより充実したものになるかもしれません。\n",
    "  「フレッシュタスク」は、無料でダウンロードすることができます。是非、お試しいただき、あなたの日々のタスク管理をサポートしてください！\"\"\"\n",
    "]\n",
    "labels = [\"typescript\", \"宣伝\", \"ios\"]\n",
    "classifier(texts, labels)"
   ]
  },
  {
   "cell_type": "code",
   "execution_count": null,
   "metadata": {},
   "outputs": [],
   "source": []
  }
 ],
 "metadata": {
  "kernelspec": {
   "display_name": "Python 3 (ipykernel)",
   "language": "python",
   "name": "python3"
  },
  "language_info": {
   "codemirror_mode": {
    "name": "ipython",
    "version": 3
   },
   "file_extension": ".py",
   "mimetype": "text/x-python",
   "name": "python",
   "nbconvert_exporter": "python",
   "pygments_lexer": "ipython3",
   "version": "3.10.1"
  }
 },
 "nbformat": 4,
 "nbformat_minor": 4
}
